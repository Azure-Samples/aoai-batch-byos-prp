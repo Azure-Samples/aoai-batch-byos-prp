{
 "cells": [
  {
   "cell_type": "markdown",
   "id": "baf78bfb-b94a-4b10-98aa-3b84f82cba9d",
   "metadata": {},
   "source": [
    "# AOAI Batch BYO storage via SAS tokens Private preview - Python SDK\n",
    "\n",
    "Get started with Azure OpenAI Service Batch Inferencing with Bring Your Own Storage using this notebook.\n",
    "\n",
    "You will learn how to use the Azure OpenAI Service python API to generate chat completions asynchronously with batch inference using your own hosted Blob Storage account.\n",
    "\n",
    "## Create GlobalBatch deployment\n",
    "\n",
    "If you haven't already, [create an Azure OpenAI Service resource](https://learn.microsoft.com/en-us/azure/ai-services/openai/how-to/create-resource?pivots=web-portal).\n",
    "\n",
    "Then create a deployment. Be sure to create a deployment with \"Global Batch\" deployment type."
   ]
  },
  {
   "cell_type": "markdown",
   "id": "9eb0b9b2-b5df-4209-a3f4-5d37c124142f",
   "metadata": {},
   "source": [
    "## Load account configuration\n",
    "\n",
    "Edit `config.json` to add you [Azure OpenAI Service API key](https://learn.microsoft.com/en-us/answers/questions/1193991/how-to-get-the-value-of-openai-api-key), Azure OpenAI account, and deployment, as well as your [Azure Blob Storage](https://learn.microsoft.com/en-us/azure/storage/blobs/storage-blobs-introduction) account name, input container, and output container. \n",
    "\n",
    "```json\n",
    "{\n",
    "    \"api_key\": \"<your-subscription-key>\",\n",
    "    \"aoai_account\": \"<your-aoai-account>\",\n",
    "    \"aoai_resource_group\": \"<your-aoai_resource_group>\",\n",
    "    \"aoai_subscription_id\": \"<your-aoai-subscription-id>\",\n",
    "    \"aoai_deployment\": \"<your-aoai-deployment>\",\n",
    "    \"azure_blob_account_name\": \"<your-azure-blob-account-name>\",\n",
    "    \"input_container\": \"<your-input-container>\",\n",
    "    \"output_container\": \"<your-output-container>\"\n",
    "}\n",
    "```"
   ]
  },
  {
   "cell_type": "code",
   "execution_count": null,
   "id": "d0d1e7bc-2767-4e50-ac17-f30fe5bf20f0",
   "metadata": {
    "collapsed": true,
    "jupyter": {
     "outputs_hidden": true
    },
    "scrolled": true
   },
   "outputs": [],
   "source": [
    "!pip install -r requirements.txt"
   ]
  },
  {
   "cell_type": "code",
   "execution_count": null,
   "id": "e7a93262-d761-4bf8-b1a4-b60f85da73ce",
   "metadata": {
    "collapsed": true,
    "jupyter": {
     "outputs_hidden": true
    }
   },
   "outputs": [],
   "source": [
    "!az login"
   ]
  },
  {
   "cell_type": "code",
   "execution_count": null,
   "id": "83bbd760-1eb0-4d9e-8006-839886eff2dd",
   "metadata": {},
   "outputs": [],
   "source": [
    "import json \n",
    "import requests\n",
    "import time\n",
    "from datetime import datetime\n",
    "\n",
    "# Load the config file\n",
    "with open(\"config.json\") as f:\n",
    "    config = json.load(f)\n",
    "\n",
    "aoai_account_name = config[\"aoai_account\"]\n",
    "aoai_resource_group = config[\"aoai_resource_group\"]\n",
    "aoai_subscription_id = config[\"aoai_subscription_id\"]\n",
    "apim_subscription_id = config[\"apim_subscription_id\"]\n",
    "deployment = config[\"aoai_deployment\"]\n",
    "api_key = config[\"api_key\"]\n",
    "blob_account_name = config[\"azure_blob_account_name\"]\n",
    "input_container = config[\"input_container\"]\n",
    "output_container = config[\"output_container\"]\n",
    "input_file_name = config[\"input_file_name\"]\n",
    "output_folder_name = config[\"output_folder_name\"]\n",
    "\n",
    "print(\"Account: \", aoai_account_name)\n",
    "print(\"Resource group: \", aoai_resource_group)\n",
    "print(\"Subscription ID: \", aoai_subscription_id)\n",
    "print(\"APIM subscription ID: \", apim_subscription_id)\n",
    "print(\"Deployment: \", deployment)\n",
    "print(\"API Key: \", api_key)\n",
    "print(\"Blob account name: \", blob_account_name)\n",
    "print(\"Input container: \", input_container)\n",
    "print(\"Input file name: \", input_file_name)\n",
    "print(\"Output container: \", output_container)\n",
    "print(\"Output folder name: \", output_folder_name)"
   ]
  },
  {
   "cell_type": "code",
   "execution_count": 55,
   "id": "718cdc82-650d-4a18-8dee-ed56a139f83b",
   "metadata": {},
   "outputs": [],
   "source": [
    "import os, uuid\n",
    "from datetime import datetime, timedelta\n",
    "from azure.identity import DefaultAzureCredential\n",
    "from azure.storage.blob import BlobServiceClient, BlobClient, ContainerClient\n",
    "\n",
    "account_url = f\"https://{blob_account_name}.blob.core.windows.net\"\n",
    "default_credential = DefaultAzureCredential()\n",
    "\n",
    "blob_service_client = BlobServiceClient(account_url, credential=default_credential)\n",
    "user_delegation_key = blob_service_client.get_user_delegation_key(datetime.utcnow(), datetime.utcnow() + timedelta(hours=2))"
   ]
  },
  {
   "cell_type": "code",
   "execution_count": 56,
   "id": "6ac2c363-c6e6-40b6-b191-ed456a8e713a",
   "metadata": {},
   "outputs": [],
   "source": [
    "def get_or_create_container_client(blob_service_client, container_name):\n",
    "    client = blob_service_client.get_container_client(container_name)\n",
    "    if not client.exists():\n",
    "        client.create_container()\n",
    "    return client\n",
    "\n",
    "input_client = get_or_create_container_client(blob_service_client, input_container)\n",
    "output_client = get_or_create_container_client(blob_service_client, output_container)"
   ]
  },
  {
   "cell_type": "code",
   "execution_count": 63,
   "id": "f2733744-cf6d-49a2-94ea-be878d72827b",
   "metadata": {},
   "outputs": [],
   "source": [
    "from azure.storage.blob import generate_container_sas, ContainerSasPermissions\n",
    "\n",
    "def generate_sas_token(blob_service_client, container_name, container_sas_permission, expiry):\n",
    "    return generate_container_sas(\n",
    "        account_name=blob_service_client.account_name,\n",
    "        container_name=container_name,\n",
    "        user_delegation_key=user_delegation_key,\n",
    "        permission=container_sas_permission,\n",
    "        expiry=expiry\n",
    "    )\n",
    "\n",
    "expiry = datetime.utcnow() + timedelta(hours=50)  # Token valid for 2 days + some extra\n",
    "\n",
    "input_sas_perms = ContainerSasPermissions(read=True)\n",
    "input_sas = generate_sas_token(blob_service_client, input_container, input_sas_perms, expiry)\n",
    "\n",
    "output_sas_perms = ContainerSasPermissions(read=True, write=True, list=True)\n",
    "output_sas = generate_sas_token(blob_service_client, output_container, output_sas_perms, expiry)"
   ]
  },
  {
   "cell_type": "code",
   "execution_count": null,
   "id": "41c5d29f-632f-4181-abfe-0f4102d46580",
   "metadata": {},
   "outputs": [],
   "source": [
    "print(input_sas)"
   ]
  },
  {
   "cell_type": "code",
   "execution_count": 59,
   "id": "3d83c976-186c-46de-b835-59acec13e176",
   "metadata": {},
   "outputs": [],
   "source": [
    "with open(\"input.jsonl\") as f:\n",
    "    text = f.read().replace(\"{{modelName}}\", deployment)\n",
    "    input_client.upload_blob(input_file_name, text, overwrite=True)"
   ]
  },
  {
   "cell_type": "code",
   "execution_count": 60,
   "id": "707fecf5-9b0b-43ac-8b8b-359921b688c3",
   "metadata": {},
   "outputs": [],
   "source": [
    "import uuid\n",
    "\n",
    "url = f\"https://{aoai_account_name}.openai.azure.com/openai/batches?api-version=2024-07-01-preview\"\n",
    "aoai_resource_id = f\"/subscriptions/{aoai_subscription_id}/resourceGroups/{aoai_resource_group}/providers/Microsoft.CognitiveServices/accounts/{aoai_account_name}\"\n",
    "request_id = str(uuid.uuid4())\n",
    "headers = {\n",
    "  'api-key': api_key,\n",
    "  'apim-subscription-id': apim_subscription_id,\n",
    "  'apim-request-id': request_id,\n",
    "  'Azure-Resource-Id': aoai_resource_id,\n",
    "  'Content-Type': 'application/json'\n",
    "}\n",
    "\n",
    "input_container_sas_url = f\"{input_client.url}?{input_sas}\"\n",
    "output_container_sas_url = f\"{output_client.url}?{output_sas}\"\n",
    "\n",
    "payload = json.dumps({\n",
    "  \"input_file_reference\": {\n",
    "    \"container_sas_url\": input_container_sas_url,\n",
    "     \"relative_file_path\": input_file_name\n",
    "  },\n",
    "  \"output_folder_reference\": {\n",
    "    \"container_sas_url\": output_container_sas_url,\n",
    "    \"relative_folder_path\": output_folder_name\n",
    "  }\n",
    "})\n",
    "\n",
    "response  = requests.request(\"POST\", url, headers=headers, data=payload)\n",
    "print(response.text)"
   ]
  },
  {
   "cell_type": "code",
   "execution_count": null,
   "id": "9487dd0d-3dc1-4939-8924-f1e8ebb14e08",
   "metadata": {},
   "outputs": [],
   "source": [
    "batch_id = response.json()['id']\n",
    "print(batch_id)\n",
    "\n",
    "def get_batch(batch_id):\n",
    "    url = f\"https://{aoai_account_name}.openai.azure.com/openai/batches/{batch_id}?api-version=2024-07-01-preview\"\n",
    "    return requests.request(\"GET\", url, headers=headers)\n",
    "\n",
    "terminal_statuses = [\"Completed\", \"Failed\", \"Canceled\"]\n",
    "while True:\n",
    "    response = get_batch(batch_id=batch_id)\n",
    "    status = response.json()['status']\n",
    "    print(f\"{datetime.now()} Batch Id: {batch_id}, Status: {status}\")\n",
    "    if status in terminal_statuses:\n",
    "        break\n",
    "\n",
    "    time.sleep(15)"
   ]
  }
 ],
 "metadata": {
  "kernelspec": {
   "display_name": "Python 3 (ipykernel)",
   "language": "python",
   "name": "python3"
  },
  "language_info": {
   "codemirror_mode": {
    "name": "ipython",
    "version": 3
   },
   "file_extension": ".py",
   "mimetype": "text/x-python",
   "name": "python",
   "nbconvert_exporter": "python",
   "pygments_lexer": "ipython3",
   "version": "3.9.13"
  }
 },
 "nbformat": 4,
 "nbformat_minor": 5
}
